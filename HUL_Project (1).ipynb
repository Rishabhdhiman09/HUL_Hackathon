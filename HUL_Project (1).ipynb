{
  "nbformat": 4,
  "nbformat_minor": 0,
  "metadata": {
    "colab": {
      "name": "HUL_Project.ipynb",
      "version": "0.3.2",
      "provenance": [],
      "collapsed_sections": []
    },
    "kernelspec": {
      "name": "python3",
      "display_name": "Python 3"
    }
  },
  "cells": [
    {
      "cell_type": "markdown",
      "metadata": {
        "id": "lNmZDVInFYgX",
        "colab_type": "text"
      },
      "source": [
        "**Geography / Sales Beat Optimisation**\n"
      ]
    },
    {
      "cell_type": "markdown",
      "metadata": {
        "id": "8Y-Qtxs_G-bH",
        "colab_type": "text"
      },
      "source": [
        "Problem Statement:\n",
        "\n",
        "i. Distributor plan their deliveries based on the orders from the retailers. Most of the delivery vehicles have a combination of Sales Beat based in their deliveries. There is no optimisers to decide on the fact that if the vehicles are running overload or underload or optimising the kms\n",
        "\n",
        "ii. Group of shaktis are covered by separate salesman and doesn’t cover the GT outlets (retailers). As shaktis are in interior rural, so throughput of shaktis are not good, there is always a problem with ensuring delivery for the orders. There should be mushroom model wherein the deliveries of shaktis should be combined with the delivery of GTs routes\n",
        "\n",
        "Requirements:\n",
        "\n",
        "\n",
        "i. Do a dynamic routing to each of the distributors to retailers. Once the distributor gets the order for the day how best he can fulfil those order given his delivery fleet (savings in kms and loading) for Metros and Tier-1 cities\n",
        "ii. Sales beat optimisation: District to be mapped out the Shaktis, Distributors and GT markets. Output required is which shaktis to be marked to which distributor and which Shakti to be mapped to which salesman so that the delivery in combination to the sales beat\n",
        "Requirements:\n",
        "Change management w.r.t behavioural change: Delivery person might get a different route at given days which is not the case in the existing scenario wherein the delivery person are set for set retailers. So, the solution is to distribute it into multiple zone (static cluster in dynamic modelling)\n",
        "\n"
      ]
    },
    {
      "cell_type": "markdown",
      "metadata": {
        "id": "dBehhRS6HWJs",
        "colab_type": "text"
      },
      "source": [
        "Objective of Algorithm:\n",
        "\n",
        "1. To minimize the delivery distance (route     optimization)\n",
        "2. To deliver goods to shaktis without vehicle underloading"
      ]
    },
    {
      "cell_type": "code",
      "metadata": {
        "id": "UPFqwbLusBZN",
        "colab_type": "code",
        "colab": {}
      },
      "source": [
        "#Importing some libraries for analysing data\n",
        "import pandas as pd\n",
        "import numpy as np\n",
        "import seaborn as sns\n",
        "import matplotlib.pyplot as plt"
      ],
      "execution_count": 0,
      "outputs": []
    },
    {
      "cell_type": "markdown",
      "metadata": {
        "id": "H3GTPRl1O9py",
        "colab_type": "text"
      },
      "source": [
        "**Problem 1**\n",
        "For Route Optimization problem i have used **Hungarian Method** for optimization. Which minimizes distance between retailers delivery by giving best route.\n",
        "\n",
        "Flow chart for **Hungarian method** Algorithm working\n",
        "![alt text](https://www.researchgate.net/profile/Jinjin_Tang2/publication/288932578/figure/fig10/AS:329780273664032@1455637152745/Flow-chart-of-the-Hungarian-algorithm.png)\n",
        "\n",
        "\n"
      ]
    },
    {
      "cell_type": "markdown",
      "metadata": {
        "id": "rhOmnybaQyZw",
        "colab_type": "text"
      },
      "source": [
        "**Reading required csv files**"
      ]
    },
    {
      "cell_type": "code",
      "metadata": {
        "id": "N6ySIwWwtJEn",
        "colab_type": "code",
        "colab": {}
      },
      "source": [
        "shogun_data = pd.read_csv(\"a.csv\")"
      ],
      "execution_count": 0,
      "outputs": []
    },
    {
      "cell_type": "code",
      "metadata": {
        "id": "DZ2aEggitOsn",
        "colab_type": "code",
        "outputId": "b97fd7e3-c1a5-40e7-ee9c-fc5bef1ae6d5",
        "colab": {
          "base_uri": "https://localhost:8080/",
          "height": 425
        }
      },
      "source": [
        "shogun_data.tail()"
      ],
      "execution_count": 3,
      "outputs": [
        {
          "output_type": "execute_result",
          "data": {
            "text/html": [
              "<div>\n",
              "<style scoped>\n",
              "    .dataframe tbody tr th:only-of-type {\n",
              "        vertical-align: middle;\n",
              "    }\n",
              "\n",
              "    .dataframe tbody tr th {\n",
              "        vertical-align: top;\n",
              "    }\n",
              "\n",
              "    .dataframe thead th {\n",
              "        text-align: right;\n",
              "    }\n",
              "</style>\n",
              "<table border=\"1\" class=\"dataframe\">\n",
              "  <thead>\n",
              "    <tr style=\"text-align: right;\">\n",
              "      <th></th>\n",
              "      <th>Delivery Date</th>\n",
              "      <th>VEHICLE</th>\n",
              "      <th>SEQUENCE</th>\n",
              "      <th>BEAT_NAME</th>\n",
              "      <th>PARTY_HLL_CODE</th>\n",
              "      <th>PARTY_CODE</th>\n",
              "      <th>SERVICING PLG</th>\n",
              "      <th>PARTY_NAME</th>\n",
              "      <th>Sr. No.</th>\n",
              "      <th>BILL_NUMBER</th>\n",
              "      <th>BILL_DATE</th>\n",
              "      <th>BASEPACK CODE</th>\n",
              "      <th>SKU7_CODE</th>\n",
              "      <th>PRODUCT_NAME</th>\n",
              "      <th>MRP</th>\n",
              "      <th>TUR</th>\n",
              "      <th>NET_SALES_QTY</th>\n",
              "      <th>NET_SALES_Cases.Units</th>\n",
              "      <th>UPC</th>\n",
              "      <th>NET_SALES_VALUE</th>\n",
              "      <th>NET_SALES_WEIGHT_IN_KGS</th>\n",
              "      <th>SCHEME_DISCOUNT</th>\n",
              "      <th>OTHER_DISCOUNT</th>\n",
              "      <th>TAX_PERCENTAGE</th>\n",
              "      <th>Net Value Calculation</th>\n",
              "      <th>BILL VALUE</th>\n",
              "    </tr>\n",
              "  </thead>\n",
              "  <tbody>\n",
              "    <tr>\n",
              "      <th>44761</th>\n",
              "      <td>11/30/2018</td>\n",
              "      <td>BIKE (vijayapraba)</td>\n",
              "      <td>NaN</td>\n",
              "      <td>PPA-NANGANALLUR 2</td>\n",
              "      <td>TN60001654859</td>\n",
              "      <td>P-P576</td>\n",
              "      <td>PP-A</td>\n",
              "      <td>Kali Store(ALN)-D-D-D-P</td>\n",
              "      <td>177</td>\n",
              "      <td>GST43613</td>\n",
              "      <td>11/29/2018</td>\n",
              "      <td>10092</td>\n",
              "      <td>PALS302</td>\n",
              "      <td>PEP GC CAVITY PROT 200G                       ...</td>\n",
              "      <td>82.0</td>\n",
              "      <td>74.55</td>\n",
              "      <td>3</td>\n",
              "      <td>0.3</td>\n",
              "      <td>72</td>\n",
              "      <td>223.63</td>\n",
              "      <td>0.60</td>\n",
              "      <td>0.00</td>\n",
              "      <td>1.90</td>\n",
              "      <td>18.0</td>\n",
              "      <td>221.39</td>\n",
              "      <td>0.0</td>\n",
              "    </tr>\n",
              "    <tr>\n",
              "      <th>44762</th>\n",
              "      <td>11/30/2018</td>\n",
              "      <td>BIKE (vijayapraba)</td>\n",
              "      <td>NaN</td>\n",
              "      <td>PPA-NANGANALLUR 2</td>\n",
              "      <td>TN60001654859</td>\n",
              "      <td>P-P576</td>\n",
              "      <td>PP-A</td>\n",
              "      <td>Kali Store(ALN)-D-D-D-P</td>\n",
              "      <td>177</td>\n",
              "      <td>GST43613</td>\n",
              "      <td>11/29/2018</td>\n",
              "      <td>10098</td>\n",
              "      <td>PALT90A</td>\n",
              "      <td>PEPSODENT GC CVTY PROT 100GM+40% EXTRA</td>\n",
              "      <td>52.0</td>\n",
              "      <td>47.27</td>\n",
              "      <td>6</td>\n",
              "      <td>0.6</td>\n",
              "      <td>96</td>\n",
              "      <td>283.64</td>\n",
              "      <td>0.84</td>\n",
              "      <td>0.00</td>\n",
              "      <td>2.40</td>\n",
              "      <td>18.0</td>\n",
              "      <td>280.81</td>\n",
              "      <td>0.0</td>\n",
              "    </tr>\n",
              "    <tr>\n",
              "      <th>44763</th>\n",
              "      <td>11/30/2018</td>\n",
              "      <td>BIKE (vijayapraba)</td>\n",
              "      <td>NaN</td>\n",
              "      <td>PPA-NANGANALLUR 2</td>\n",
              "      <td>TN60001654859</td>\n",
              "      <td>P-P576</td>\n",
              "      <td>PP-A</td>\n",
              "      <td>Kali Store(ALN)-D-D-D-P</td>\n",
              "      <td>177</td>\n",
              "      <td>GST43613</td>\n",
              "      <td>11/29/2018</td>\n",
              "      <td>12814</td>\n",
              "      <td>VAFN105</td>\n",
              "      <td>VTM ALOE SOOTHE LTN 40ML                      ...</td>\n",
              "      <td>49.0</td>\n",
              "      <td>44.55</td>\n",
              "      <td>0</td>\n",
              "      <td>0.0</td>\n",
              "      <td>240</td>\n",
              "      <td>0.00</td>\n",
              "      <td>0.00</td>\n",
              "      <td>5.66</td>\n",
              "      <td>1.08</td>\n",
              "      <td>18.0</td>\n",
              "      <td>-7.95</td>\n",
              "      <td>0.0</td>\n",
              "    </tr>\n",
              "    <tr>\n",
              "      <th>44764</th>\n",
              "      <td>11/30/2018</td>\n",
              "      <td>BIKE (MOHAMMEDASAIN)</td>\n",
              "      <td>NaN</td>\n",
              "      <td>F-ANAKAPUTHUR</td>\n",
              "      <td>HUL-410243D-AN0055</td>\n",
              "      <td>F-P846</td>\n",
              "      <td>FNB</td>\n",
              "      <td>Brinda Provision(ana)-D-F</td>\n",
              "      <td>235</td>\n",
              "      <td>GST43671</td>\n",
              "      <td>11/29/2018</td>\n",
              "      <td>65057</td>\n",
              "      <td>BRBT904</td>\n",
              "      <td>BRU INSTANT NEW GLASS-JAR 50G (AURS)</td>\n",
              "      <td>90.0</td>\n",
              "      <td>84.11</td>\n",
              "      <td>3</td>\n",
              "      <td>0.3</td>\n",
              "      <td>48</td>\n",
              "      <td>252.34</td>\n",
              "      <td>0.15</td>\n",
              "      <td>0.00</td>\n",
              "      <td>0.00</td>\n",
              "      <td>18.0</td>\n",
              "      <td>252.34</td>\n",
              "      <td>730.0</td>\n",
              "    </tr>\n",
              "    <tr>\n",
              "      <th>44765</th>\n",
              "      <td>11/30/2018</td>\n",
              "      <td>BIKE (MOHAMMEDASAIN)</td>\n",
              "      <td>NaN</td>\n",
              "      <td>F-ANAKAPUTHUR</td>\n",
              "      <td>HUL-410243D-AN0055</td>\n",
              "      <td>F-P846</td>\n",
              "      <td>FNB</td>\n",
              "      <td>Brinda Provision(ana)-D-F</td>\n",
              "      <td>235</td>\n",
              "      <td>GST43671</td>\n",
              "      <td>11/29/2018</td>\n",
              "      <td>70305</td>\n",
              "      <td>RLLO304</td>\n",
              "      <td>RL NC [C] 250GNWSHLFLIFE                      ...</td>\n",
              "      <td>130.0</td>\n",
              "      <td>121.50</td>\n",
              "      <td>4</td>\n",
              "      <td>0.4</td>\n",
              "      <td>48</td>\n",
              "      <td>485.98</td>\n",
              "      <td>1.00</td>\n",
              "      <td>7.62</td>\n",
              "      <td>0.00</td>\n",
              "      <td>5.0</td>\n",
              "      <td>477.98</td>\n",
              "      <td>0.0</td>\n",
              "    </tr>\n",
              "  </tbody>\n",
              "</table>\n",
              "</div>"
            ],
            "text/plain": [
              "      Delivery Date               VEHICLE  ...  Net Value Calculation BILL VALUE\n",
              "44761    11/30/2018    BIKE (vijayapraba)  ...                 221.39        0.0\n",
              "44762    11/30/2018    BIKE (vijayapraba)  ...                 280.81        0.0\n",
              "44763    11/30/2018    BIKE (vijayapraba)  ...                  -7.95        0.0\n",
              "44764    11/30/2018  BIKE (MOHAMMEDASAIN)  ...                 252.34      730.0\n",
              "44765    11/30/2018  BIKE (MOHAMMEDASAIN)  ...                 477.98        0.0\n",
              "\n",
              "[5 rows x 26 columns]"
            ]
          },
          "metadata": {
            "tags": []
          },
          "execution_count": 3
        }
      ]
    },
    {
      "cell_type": "code",
      "metadata": {
        "id": "lhsptlnftRjA",
        "colab_type": "code",
        "colab": {}
      },
      "source": [
        "shakti_data = pd.read_csv(\"/content/shaktigps.csv\")"
      ],
      "execution_count": 0,
      "outputs": []
    },
    {
      "cell_type": "code",
      "metadata": {
        "id": "WunpSWv_zHxz",
        "colab_type": "code",
        "outputId": "a659f5ff-abdd-48b4-97f3-ce157237313c",
        "colab": {
          "base_uri": "https://localhost:8080/",
          "height": 198
        }
      },
      "source": [
        "shakti_data.head()"
      ],
      "execution_count": 6,
      "outputs": [
        {
          "output_type": "execute_result",
          "data": {
            "text/html": [
              "<div>\n",
              "<style scoped>\n",
              "    .dataframe tbody tr th:only-of-type {\n",
              "        vertical-align: middle;\n",
              "    }\n",
              "\n",
              "    .dataframe tbody tr th {\n",
              "        vertical-align: top;\n",
              "    }\n",
              "\n",
              "    .dataframe thead th {\n",
              "        text-align: right;\n",
              "    }\n",
              "</style>\n",
              "<table border=\"1\" class=\"dataframe\">\n",
              "  <thead>\n",
              "    <tr style=\"text-align: right;\">\n",
              "      <th></th>\n",
              "      <th>RS Code</th>\n",
              "      <th>GPS_LAT</th>\n",
              "      <th>GPS_LONG</th>\n",
              "    </tr>\n",
              "  </thead>\n",
              "  <tbody>\n",
              "    <tr>\n",
              "      <th>0</th>\n",
              "      <td>410640</td>\n",
              "      <td>11.268828</td>\n",
              "      <td>77.650470</td>\n",
              "    </tr>\n",
              "    <tr>\n",
              "      <th>1</th>\n",
              "      <td>410640</td>\n",
              "      <td>11.269172</td>\n",
              "      <td>77.650173</td>\n",
              "    </tr>\n",
              "    <tr>\n",
              "      <th>2</th>\n",
              "      <td>411304</td>\n",
              "      <td>10.505967</td>\n",
              "      <td>79.705148</td>\n",
              "    </tr>\n",
              "    <tr>\n",
              "      <th>3</th>\n",
              "      <td>411304</td>\n",
              "      <td>10.507117</td>\n",
              "      <td>79.690247</td>\n",
              "    </tr>\n",
              "    <tr>\n",
              "      <th>4</th>\n",
              "      <td>411304</td>\n",
              "      <td>10.500000</td>\n",
              "      <td>79.663765</td>\n",
              "    </tr>\n",
              "  </tbody>\n",
              "</table>\n",
              "</div>"
            ],
            "text/plain": [
              "  RS Code    GPS_LAT   GPS_LONG\n",
              "0  410640  11.268828  77.650470\n",
              "1  410640  11.269172  77.650173\n",
              "2  411304  10.505967  79.705148\n",
              "3  411304  10.507117  79.690247\n",
              "4  411304  10.500000  79.663765"
            ]
          },
          "metadata": {
            "tags": []
          },
          "execution_count": 6
        }
      ]
    },
    {
      "cell_type": "code",
      "metadata": {
        "id": "_PurD-qr0Irw",
        "colab_type": "code",
        "outputId": "045a0a2d-4ada-47a9-8f67-6c484ba5af33",
        "colab": {
          "base_uri": "https://localhost:8080/",
          "height": 35
        }
      },
      "source": [
        "chennai_data = pd.read_csv(\"c6.csv\", encoding = \"latin\")\n",
        "chennai_data.shape"
      ],
      "execution_count": 60,
      "outputs": [
        {
          "output_type": "execute_result",
          "data": {
            "text/plain": [
              "(11785, 25)"
            ]
          },
          "metadata": {
            "tags": []
          },
          "execution_count": 60
        }
      ]
    },
    {
      "cell_type": "code",
      "metadata": {
        "id": "UBgmDL8f0TKk",
        "colab_type": "code",
        "outputId": "b1970749-721f-4527-dfdf-1e39f9ffd2f2",
        "colab": {
          "base_uri": "https://localhost:8080/",
          "height": 581
        }
      },
      "source": [
        "chennai_data.head()"
      ],
      "execution_count": 61,
      "outputs": [
        {
          "output_type": "execute_result",
          "data": {
            "text/html": [
              "<div>\n",
              "<style scoped>\n",
              "    .dataframe tbody tr th:only-of-type {\n",
              "        vertical-align: middle;\n",
              "    }\n",
              "\n",
              "    .dataframe tbody tr th {\n",
              "        vertical-align: top;\n",
              "    }\n",
              "\n",
              "    .dataframe thead th {\n",
              "        text-align: right;\n",
              "    }\n",
              "</style>\n",
              "<table border=\"1\" class=\"dataframe\">\n",
              "  <thead>\n",
              "    <tr style=\"text-align: right;\">\n",
              "      <th></th>\n",
              "      <th>Branch_Desc</th>\n",
              "      <th>Area_Desc</th>\n",
              "      <th>Cluster_Desc</th>\n",
              "      <th>CHANNEL_DESC</th>\n",
              "      <th>Rscode</th>\n",
              "      <th>CRS_DESC</th>\n",
              "      <th>BeatName</th>\n",
              "      <th>PRICELIST_GROUP</th>\n",
              "      <th>SERVICE_DAYS</th>\n",
              "      <th>PartyHLLCode</th>\n",
              "      <th>PartyMasterCode</th>\n",
              "      <th>ParTycode</th>\n",
              "      <th>PartyName</th>\n",
              "      <th>PrimaryChannel</th>\n",
              "      <th>SecondaryChannel</th>\n",
              "      <th>Classification</th>\n",
              "      <th>Category</th>\n",
              "      <th>Tier</th>\n",
              "      <th>Beat_Type</th>\n",
              "      <th>MOutletType</th>\n",
              "      <th>PAR_CREATED_DATE</th>\n",
              "      <th>Party_Type</th>\n",
              "      <th>Outlet Lat</th>\n",
              "      <th>Outlet Long</th>\n",
              "      <th>Status</th>\n",
              "    </tr>\n",
              "  </thead>\n",
              "  <tbody>\n",
              "    <tr>\n",
              "      <th>0</th>\n",
              "      <td>CHENNAI</td>\n",
              "      <td>STN</td>\n",
              "      <td>TAMIL NADU</td>\n",
              "      <td>RD</td>\n",
              "      <td>411642</td>\n",
              "      <td>SAV DISTRIBUTORS</td>\n",
              "      <td>KANYAKUMARI - R1</td>\n",
              "      <td>PP-S</td>\n",
              "      <td>M</td>\n",
              "      <td>HUL-411642P563</td>\n",
              "      <td>P563</td>\n",
              "      <td>P563</td>\n",
              "      <td>SATHYA STORE N</td>\n",
              "      <td>Family Grocer</td>\n",
              "      <td>GN Target Only</td>\n",
              "      <td>Impact</td>\n",
              "      <td>Target</td>\n",
              "      <td>No visi</td>\n",
              "      <td>MR-MR-MR</td>\n",
              "      <td>NaN</td>\n",
              "      <td>2009-11-03 00:00:00</td>\n",
              "      <td>Master</td>\n",
              "      <td>8.081868</td>\n",
              "      <td>77.544858</td>\n",
              "      <td>Fixed Based on Fixing Algo</td>\n",
              "    </tr>\n",
              "    <tr>\n",
              "      <th>1</th>\n",
              "      <td>CHENNAI</td>\n",
              "      <td>STN</td>\n",
              "      <td>TAMIL NADU</td>\n",
              "      <td>RD</td>\n",
              "      <td>411642</td>\n",
              "      <td>SAV DISTRIBUTORS</td>\n",
              "      <td>KANYAKUMARI - R1</td>\n",
              "      <td>PP-S</td>\n",
              "      <td>M</td>\n",
              "      <td>HUL-411642PUR12</td>\n",
              "      <td>PUR12</td>\n",
              "      <td>PUR12</td>\n",
              "      <td>RAMALINGAM</td>\n",
              "      <td>Family Grocer</td>\n",
              "      <td>GN Target Only</td>\n",
              "      <td>Impact</td>\n",
              "      <td>Target</td>\n",
              "      <td>No visi</td>\n",
              "      <td>MR-MR-MR</td>\n",
              "      <td>NA,Rurban</td>\n",
              "      <td>2009-11-03 00:00:00</td>\n",
              "      <td>Master</td>\n",
              "      <td>8.082312</td>\n",
              "      <td>77.550346</td>\n",
              "      <td>Fixed Based on Fixing Algo</td>\n",
              "    </tr>\n",
              "    <tr>\n",
              "      <th>2</th>\n",
              "      <td>CHENNAI</td>\n",
              "      <td>STN</td>\n",
              "      <td>TAMIL NADU</td>\n",
              "      <td>RD</td>\n",
              "      <td>411642</td>\n",
              "      <td>SAV DISTRIBUTORS</td>\n",
              "      <td>KANYAKUMARI - R1</td>\n",
              "      <td>PP-S</td>\n",
              "      <td>M</td>\n",
              "      <td>HUL-411642KAN17</td>\n",
              "      <td>KAN17</td>\n",
              "      <td>KAN17</td>\n",
              "      <td>DEVADHAS STORES TIN NO 33346125600</td>\n",
              "      <td>Family Grocer</td>\n",
              "      <td>GN Target Only</td>\n",
              "      <td>Impact</td>\n",
              "      <td>Target</td>\n",
              "      <td>No visi</td>\n",
              "      <td>MR-MR-MR</td>\n",
              "      <td>NaN</td>\n",
              "      <td>2009-11-03 00:00:00</td>\n",
              "      <td>Master</td>\n",
              "      <td>8.082407</td>\n",
              "      <td>77.549691</td>\n",
              "      <td>Fixed Based on Fixing Algo</td>\n",
              "    </tr>\n",
              "    <tr>\n",
              "      <th>3</th>\n",
              "      <td>CHENNAI</td>\n",
              "      <td>STN</td>\n",
              "      <td>TAMIL NADU</td>\n",
              "      <td>RD</td>\n",
              "      <td>411642</td>\n",
              "      <td>SAV DISTRIBUTORS</td>\n",
              "      <td>KANYAKUMARI - R1</td>\n",
              "      <td>PP-S</td>\n",
              "      <td>M</td>\n",
              "      <td>HUL-411642P555</td>\n",
              "      <td>P555</td>\n",
              "      <td>P555</td>\n",
              "      <td>ANTHONY STORE</td>\n",
              "      <td>Retail</td>\n",
              "      <td>Retail</td>\n",
              "      <td>Urban GT</td>\n",
              "      <td>Mass Retail</td>\n",
              "      <td>N.A.</td>\n",
              "      <td>Mass Retail</td>\n",
              "      <td>NaN</td>\n",
              "      <td>2009-11-03 00:00:00</td>\n",
              "      <td>Master</td>\n",
              "      <td>8.083033</td>\n",
              "      <td>77.544767</td>\n",
              "      <td>Fixed Based on Fixing Algo</td>\n",
              "    </tr>\n",
              "    <tr>\n",
              "      <th>4</th>\n",
              "      <td>CHENNAI</td>\n",
              "      <td>STN</td>\n",
              "      <td>TAMIL NADU</td>\n",
              "      <td>RD</td>\n",
              "      <td>411642</td>\n",
              "      <td>SAV DISTRIBUTORS</td>\n",
              "      <td>KANYAKUMARI - R1</td>\n",
              "      <td>PP-S</td>\n",
              "      <td>M</td>\n",
              "      <td>HUL-411642P556</td>\n",
              "      <td>P556</td>\n",
              "      <td>P556</td>\n",
              "      <td>DHANA RAJ STORE</td>\n",
              "      <td>Retail</td>\n",
              "      <td>Retail</td>\n",
              "      <td>Impact</td>\n",
              "      <td>Mass Retail</td>\n",
              "      <td>N.A.</td>\n",
              "      <td>Mass Retail</td>\n",
              "      <td>Rurban</td>\n",
              "      <td>2009-11-03 00:00:00</td>\n",
              "      <td>Master</td>\n",
              "      <td>8.083214</td>\n",
              "      <td>77.523920</td>\n",
              "      <td>Fixed Based on Fixing Algo</td>\n",
              "    </tr>\n",
              "  </tbody>\n",
              "</table>\n",
              "</div>"
            ],
            "text/plain": [
              "  Branch_Desc Area_Desc  ... Outlet Long                      Status\n",
              "0     CHENNAI       STN  ...   77.544858  Fixed Based on Fixing Algo\n",
              "1     CHENNAI       STN  ...   77.550346  Fixed Based on Fixing Algo\n",
              "2     CHENNAI       STN  ...   77.549691  Fixed Based on Fixing Algo\n",
              "3     CHENNAI       STN  ...   77.544767  Fixed Based on Fixing Algo\n",
              "4     CHENNAI       STN  ...   77.523920  Fixed Based on Fixing Algo\n",
              "\n",
              "[5 rows x 25 columns]"
            ]
          },
          "metadata": {
            "tags": []
          },
          "execution_count": 61
        }
      ]
    },
    {
      "cell_type": "code",
      "metadata": {
        "id": "03j68OdM0pDV",
        "colab_type": "code",
        "outputId": "8b71ca00-0ae1-4a84-8898-b1b30fbdc744",
        "colab": {
          "base_uri": "https://localhost:8080/",
          "height": 126
        }
      },
      "source": [
        "#Input the RS CODE for distributor\n",
        "rs_code = input(\"Enter RS CODE of Distributor \\n\")\n",
        "dist_data = shakti_data[shakti_data[\"RS Code\"] == rs_code].iloc[0]\n",
        "dist_data"
      ],
      "execution_count": 9,
      "outputs": [
        {
          "output_type": "stream",
          "text": [
            "Enter RS CODE of Distributor \n",
            "410640\n"
          ],
          "name": "stdout"
        },
        {
          "output_type": "execute_result",
          "data": {
            "text/plain": [
              "RS Code      410640\n",
              "GPS_LAT     11.2688\n",
              "GPS_LONG    77.6505\n",
              "Name: 0, dtype: object"
            ]
          },
          "metadata": {
            "tags": []
          },
          "execution_count": 9
        }
      ]
    },
    {
      "cell_type": "code",
      "metadata": {
        "id": "ykdgyyXg05lY",
        "colab_type": "code",
        "outputId": "f82eac6d-9280-4112-f2db-397671a575ee",
        "colab": {
          "base_uri": "https://localhost:8080/",
          "height": 126
        }
      },
      "source": [
        "#Input the Party HLL Code for retailer\n",
        "code_list = []\n",
        "length = int(input(\"No of retailers to be scheduled\"))\n",
        "\n",
        "for i in range(0,length):\n",
        "  partyHllCode = input(\"Enter Party HLL Code of Retailer {}\".format(i+1))\n",
        "  code_list.append(partyHllCode)\n",
        "\n",
        "code_list"
      ],
      "execution_count": 12,
      "outputs": [
        {
          "output_type": "stream",
          "text": [
            "No of retailers to be scheduled4\n",
            "Enter Party HLL Code of Retailer 1HUL-411642PUR12\n",
            "Enter Party HLL Code of Retailer 2HUL-411642KAN17\n",
            "Enter Party HLL Code of Retailer 3HUL-411642P555\n",
            "Enter Party HLL Code of Retailer 4HUL-411642P556\n"
          ],
          "name": "stdout"
        },
        {
          "output_type": "execute_result",
          "data": {
            "text/plain": [
              "['HUL-411642PUR12', 'HUL-411642KAN17', 'HUL-411642P555', 'HUL-411642P556']"
            ]
          },
          "metadata": {
            "tags": []
          },
          "execution_count": 12
        }
      ]
    },
    {
      "cell_type": "code",
      "metadata": {
        "id": "ckQY_f5_HUro",
        "colab_type": "code",
        "colab": {
          "base_uri": "https://localhost:8080/",
          "height": 35
        },
        "outputId": "30a3ddb9-a0d1-4d0c-faf2-7cd1e559e8b9"
      },
      "source": [
        "code_list[0]"
      ],
      "execution_count": 14,
      "outputs": [
        {
          "output_type": "execute_result",
          "data": {
            "text/plain": [
              "'HUL-411642PUR12'"
            ]
          },
          "metadata": {
            "tags": []
          },
          "execution_count": 14
        }
      ]
    },
    {
      "cell_type": "code",
      "metadata": {
        "id": "-2AfsKEs5FMK",
        "colab_type": "code",
        "outputId": "e1e8fa63-6dde-4516-876d-1758ba37b8f7",
        "colab": {
          "base_uri": "https://localhost:8080/",
          "height": 90
        }
      },
      "source": [
        "list1 = {\n",
        "    'lat':[],                  \n",
        "    'lon':[]\n",
        "}\n",
        "for code in code_list:\n",
        "  list1['lat'].append(chennai_data[chennai_data[\"PartyHLLCode\"] == code][\"Outlet Lat\"].to_list()[0])\n",
        "  list1['lon'].append(chennai_data[chennai_data[\"PartyHLLCode\"] == code][\"Outlet Long\"].to_list()[0])\n",
        "  print(code)"
      ],
      "execution_count": 72,
      "outputs": [
        {
          "output_type": "stream",
          "text": [
            "HUL-411642PUR12\n",
            "HUL-411642KAN17\n",
            "HUL-411642P555\n",
            "HUL-411642P556\n"
          ],
          "name": "stdout"
        }
      ]
    },
    {
      "cell_type": "code",
      "metadata": {
        "id": "JJ5CK_-d6mXh",
        "colab_type": "code",
        "colab": {}
      },
      "source": [
        "list1 = pd.DataFrame(list1)"
      ],
      "execution_count": 0,
      "outputs": []
    },
    {
      "cell_type": "code",
      "metadata": {
        "id": "WdrUHFypKFA4",
        "colab_type": "code",
        "colab": {
          "base_uri": "https://localhost:8080/",
          "height": 168
        },
        "outputId": "43423b6c-3966-4b38-f2e5-7136f6bed4bf"
      },
      "source": [
        "#LAT LONG of retailers based on PartyHLLCode entered\n",
        "list1"
      ],
      "execution_count": 75,
      "outputs": [
        {
          "output_type": "execute_result",
          "data": {
            "text/html": [
              "<div>\n",
              "<style scoped>\n",
              "    .dataframe tbody tr th:only-of-type {\n",
              "        vertical-align: middle;\n",
              "    }\n",
              "\n",
              "    .dataframe tbody tr th {\n",
              "        vertical-align: top;\n",
              "    }\n",
              "\n",
              "    .dataframe thead th {\n",
              "        text-align: right;\n",
              "    }\n",
              "</style>\n",
              "<table border=\"1\" class=\"dataframe\">\n",
              "  <thead>\n",
              "    <tr style=\"text-align: right;\">\n",
              "      <th></th>\n",
              "      <th>lat</th>\n",
              "      <th>lon</th>\n",
              "    </tr>\n",
              "  </thead>\n",
              "  <tbody>\n",
              "    <tr>\n",
              "      <th>0</th>\n",
              "      <td>8.082312</td>\n",
              "      <td>77.550346</td>\n",
              "    </tr>\n",
              "    <tr>\n",
              "      <th>1</th>\n",
              "      <td>8.082407</td>\n",
              "      <td>77.549691</td>\n",
              "    </tr>\n",
              "    <tr>\n",
              "      <th>2</th>\n",
              "      <td>8.083033</td>\n",
              "      <td>77.544767</td>\n",
              "    </tr>\n",
              "    <tr>\n",
              "      <th>3</th>\n",
              "      <td>8.083214</td>\n",
              "      <td>77.523920</td>\n",
              "    </tr>\n",
              "  </tbody>\n",
              "</table>\n",
              "</div>"
            ],
            "text/plain": [
              "        lat        lon\n",
              "0  8.082312  77.550346\n",
              "1  8.082407  77.549691\n",
              "2  8.083033  77.544767\n",
              "3  8.083214  77.523920"
            ]
          },
          "metadata": {
            "tags": []
          },
          "execution_count": 75
        }
      ]
    },
    {
      "cell_type": "code",
      "metadata": {
        "id": "WZABXFPA966G",
        "colab_type": "code",
        "outputId": "2b6b9ef6-273d-48cf-c4de-d753183c495d",
        "colab": {
          "base_uri": "https://localhost:8080/",
          "height": 198
        }
      },
      "source": [
        "# Input for type of material\n",
        "types_data = pd.read_csv(\"types.csv\")\n",
        "types_data.head()"
      ],
      "execution_count": 77,
      "outputs": [
        {
          "output_type": "execute_result",
          "data": {
            "text/html": [
              "<div>\n",
              "<style scoped>\n",
              "    .dataframe tbody tr th:only-of-type {\n",
              "        vertical-align: middle;\n",
              "    }\n",
              "\n",
              "    .dataframe tbody tr th {\n",
              "        vertical-align: top;\n",
              "    }\n",
              "\n",
              "    .dataframe thead th {\n",
              "        text-align: right;\n",
              "    }\n",
              "</style>\n",
              "<table border=\"1\" class=\"dataframe\">\n",
              "  <thead>\n",
              "    <tr style=\"text-align: right;\">\n",
              "      <th></th>\n",
              "      <th>Type</th>\n",
              "      <th>Combinations</th>\n",
              "    </tr>\n",
              "  </thead>\n",
              "  <tbody>\n",
              "    <tr>\n",
              "      <th>0</th>\n",
              "      <td>TYPE 1</td>\n",
              "      <td>ALL PLGs combined</td>\n",
              "    </tr>\n",
              "    <tr>\n",
              "      <th>1</th>\n",
              "      <td>TYPE 2</td>\n",
              "      <td>D+F,PP,HUL</td>\n",
              "    </tr>\n",
              "    <tr>\n",
              "      <th>2</th>\n",
              "      <td>TYPE 3</td>\n",
              "      <td>DETS,FNB,PP,HUL</td>\n",
              "    </tr>\n",
              "    <tr>\n",
              "      <th>3</th>\n",
              "      <td>Type 4</td>\n",
              "      <td>Dets, Rest of PLGs</td>\n",
              "    </tr>\n",
              "    <tr>\n",
              "      <th>4</th>\n",
              "      <td>Type 5</td>\n",
              "      <td>Dets, FnB+PP, HUL</td>\n",
              "    </tr>\n",
              "  </tbody>\n",
              "</table>\n",
              "</div>"
            ],
            "text/plain": [
              "     Type        Combinations\n",
              "0  TYPE 1   ALL PLGs combined\n",
              "1  TYPE 2          D+F,PP,HUL\n",
              "2  TYPE 3     DETS,FNB,PP,HUL\n",
              "3  Type 4  Dets, Rest of PLGs\n",
              "4  Type 5   Dets, FnB+PP, HUL"
            ]
          },
          "metadata": {
            "tags": []
          },
          "execution_count": 77
        }
      ]
    },
    {
      "cell_type": "code",
      "metadata": {
        "id": "MvvCgPMY_HU9",
        "colab_type": "code",
        "outputId": "a356098c-6117-43e4-e1fe-3046775bc93d",
        "colab": {
          "base_uri": "https://localhost:8080/",
          "height": 90
        }
      },
      "source": [
        "#Input the type of material to be delivered\n",
        "type_ = input(\"Enter the type of comnination \\n\")\n",
        "Selected_list = types_data[types_data[\"Type\"].apply(lambda x: x.lower()) == type_][\"Combinations\"]\n",
        "print(\"You have selected {} items\".format(Selected_list))"
      ],
      "execution_count": 78,
      "outputs": [
        {
          "output_type": "stream",
          "text": [
            "Enter the type of comnination \n",
            "type 5\n",
            "You have selected 4    Dets, FnB+PP, HUL\n",
            "Name: Combinations, dtype: object items\n"
          ],
          "name": "stdout"
        }
      ]
    },
    {
      "cell_type": "code",
      "metadata": {
        "id": "L-2kzCvB_Hvk",
        "colab_type": "code",
        "outputId": "a3d8b3c2-09bf-4018-d4be-96e173ecd867",
        "colab": {
          "base_uri": "https://localhost:8080/",
          "height": 54
        }
      },
      "source": [
        "#Input the weight of material\n",
        "wgt = float(input(\"Enter total weight (tonns)to be shipped\"))\n",
        "if (wgt <= 0.025):\n",
        "  print(\"Required vehicle is Bike\")\n",
        "else:\n",
        "  print(\"required vehicle is Tata Ace\")\n",
        "  "
      ],
      "execution_count": 79,
      "outputs": [
        {
          "output_type": "stream",
          "text": [
            "Enter total weight (tonns)to be shipped.254\n",
            "required vehicle is Tata Ace\n"
          ],
          "name": "stdout"
        }
      ]
    },
    {
      "cell_type": "code",
      "metadata": {
        "id": "K9pwfvSH_HyE",
        "colab_type": "code",
        "colab": {}
      },
      "source": [
        "#This code gives the Vehicle/Person name for a partivular market/Beat\n",
        "Shogun_data = pd.read_csv(\"shogun.csv\")\n",
        "# Shogun_data.head()\n"
      ],
      "execution_count": 0,
      "outputs": []
    },
    {
      "cell_type": "markdown",
      "metadata": {
        "id": "z_I8HZaIRgXp",
        "colab_type": "text"
      },
      "source": [
        "**Finding which salesman/vehicle will go the particular market**"
      ]
    },
    {
      "cell_type": "code",
      "metadata": {
        "id": "0ZYWdAP2_H0m",
        "colab_type": "code",
        "outputId": "16e02ae0-e7da-4233-c729-8c30f5d374ff",
        "colab": {
          "base_uri": "https://localhost:8080/",
          "height": 90
        }
      },
      "source": [
        "Beat = input(\"Enter Beat Name\")\n",
        "Party_Hll_Code = input(\"Enter Party Hll Code\")\n",
        "Shogun_data[np.logical_and(Shogun_data[\"BEAT_NAME\"] == Beat, Shogun_data[\"PARTY_HLL_CODE\"] == Party_Hll_Code)][\"VEHICLE\"][:1]"
      ],
      "execution_count": 81,
      "outputs": [
        {
          "output_type": "stream",
          "text": [
            "Enter Beat NameD-CHROMPET 1\n",
            "Enter Party Hll CodeHUL-410243D-CH0103\n"
          ],
          "name": "stdout"
        },
        {
          "output_type": "execute_result",
          "data": {
            "text/plain": [
              "0    VAN3 (RAJKUMAR)\n",
              "Name: VEHICLE, dtype: object"
            ]
          },
          "metadata": {
            "tags": []
          },
          "execution_count": 81
        }
      ]
    },
    {
      "cell_type": "code",
      "metadata": {
        "id": "Y-tT2bzJ_H2n",
        "colab_type": "code",
        "outputId": "70b0b090-7811-48e8-b432-045659b73906",
        "colab": {
          "base_uri": "https://localhost:8080/",
          "height": 35
        }
      },
      "source": [
        ""
      ],
      "execution_count": 0,
      "outputs": [
        {
          "output_type": "execute_result",
          "data": {
            "text/plain": [
              "pandas.core.series.Series"
            ]
          },
          "metadata": {
            "tags": []
          },
          "execution_count": 15
        }
      ]
    },
    {
      "cell_type": "code",
      "metadata": {
        "id": "DU5fvB9Ur5Tz",
        "colab_type": "code",
        "outputId": "8efa481a-edd4-4989-c882-2070e426e43a",
        "colab": {
          "base_uri": "https://localhost:8080/",
          "height": 168
        }
      },
      "source": [
        "list1"
      ],
      "execution_count": 99,
      "outputs": [
        {
          "output_type": "execute_result",
          "data": {
            "text/html": [
              "<div>\n",
              "<style scoped>\n",
              "    .dataframe tbody tr th:only-of-type {\n",
              "        vertical-align: middle;\n",
              "    }\n",
              "\n",
              "    .dataframe tbody tr th {\n",
              "        vertical-align: top;\n",
              "    }\n",
              "\n",
              "    .dataframe thead th {\n",
              "        text-align: right;\n",
              "    }\n",
              "</style>\n",
              "<table border=\"1\" class=\"dataframe\">\n",
              "  <thead>\n",
              "    <tr style=\"text-align: right;\">\n",
              "      <th></th>\n",
              "      <th>lat</th>\n",
              "      <th>lon</th>\n",
              "    </tr>\n",
              "  </thead>\n",
              "  <tbody>\n",
              "    <tr>\n",
              "      <th>0</th>\n",
              "      <td>8.082312</td>\n",
              "      <td>77.550346</td>\n",
              "    </tr>\n",
              "    <tr>\n",
              "      <th>1</th>\n",
              "      <td>8.082407</td>\n",
              "      <td>77.549691</td>\n",
              "    </tr>\n",
              "    <tr>\n",
              "      <th>2</th>\n",
              "      <td>8.083033</td>\n",
              "      <td>77.544767</td>\n",
              "    </tr>\n",
              "    <tr>\n",
              "      <th>3</th>\n",
              "      <td>8.083214</td>\n",
              "      <td>77.523920</td>\n",
              "    </tr>\n",
              "  </tbody>\n",
              "</table>\n",
              "</div>"
            ],
            "text/plain": [
              "        lat        lon\n",
              "0  8.082312  77.550346\n",
              "1  8.082407  77.549691\n",
              "2  8.083033  77.544767\n",
              "3  8.083214  77.523920"
            ]
          },
          "metadata": {
            "tags": []
          },
          "execution_count": 99
        }
      ]
    },
    {
      "cell_type": "code",
      "metadata": {
        "id": "N-Kq6dX60osM",
        "colab_type": "code",
        "colab": {}
      },
      "source": [
        "Retailer = list1"
      ],
      "execution_count": 0,
      "outputs": []
    },
    {
      "cell_type": "markdown",
      "metadata": {
        "id": "-OQjBjW5SNnN",
        "colab_type": "text"
      },
      "source": [
        "**Below is the code for calculating distance between each retailer using LAT LONG data provided**\n",
        "\n",
        "**Haversine Formula** for calculating distance\n",
        "\n",
        "![alt text](http://ttarnawski.usermd.net/wp-content/uploads/2017/08/Bez-nazwy.png)\n"
      ]
    },
    {
      "cell_type": "code",
      "metadata": {
        "id": "U0gBHDzT9NG8",
        "colab_type": "code",
        "colab": {}
      },
      "source": [
        "from math import sin, cos, sqrt, atan2, radians\n",
        "\n",
        "# approximate radius of earth in km\n",
        "R = 6373.0\n",
        "\n",
        "def get_distance(lt1, ln1, lt2, ln2):\n",
        "  lat1 = radians(lt1)\n",
        "  lon1 = radians(ln1)\n",
        "  lat2 = radians(lt2)\n",
        "  lon2 = radians(ln2)\n",
        "\n",
        "  dlon = lon2 - lon1\n",
        "  dlat = lat2 - lat1\n",
        "\n",
        "  a = sin(dlat / 2)**2 + cos(lat1) * cos(lat2) * sin(dlon / 2)**2\n",
        "  c = 2 * atan2(sqrt(a), sqrt(1 - a))\n",
        "\n",
        "  distance = R * c\n",
        "\n",
        "  return distance"
      ],
      "execution_count": 0,
      "outputs": []
    },
    {
      "cell_type": "markdown",
      "metadata": {
        "id": "Z15ZVZZHUVTr",
        "colab_type": "text"
      },
      "source": [
        "**Distance between each and every retailer is given in a matrix for example:**\n",
        "\n",
        "![alt text](https://www.geeksforgeeks.org/wp-content/uploads/hungerain2.png)"
      ]
    },
    {
      "cell_type": "code",
      "metadata": {
        "id": "K2jsnEHx9P-H",
        "colab_type": "code",
        "colab": {}
      },
      "source": [
        "def get_distance_li(cordinates):\n",
        "  ret_li = []\n",
        "\n",
        "  for i in range(len(cordinates) - 1):\n",
        "    for j in range(i+1, len(cordinates)):\n",
        "      lt1, ln1 = float(cordinates.loc[i, 'lat']), float(cordinates.loc[i, 'lon'])\n",
        "      lt2, ln2 = float(cordinates.loc[j, 'lat']), float(cordinates.loc[j, 'lon'])\n",
        "\n",
        "      temp_d = get_distance(lt1, ln1, lt2, ln2)\n",
        "      ret_li.append((i, j, temp_d))\n",
        "\n",
        "  return ret_li"
      ],
      "execution_count": 0,
      "outputs": []
    },
    {
      "cell_type": "code",
      "metadata": {
        "id": "UaRieTjK9Vo-",
        "colab_type": "code",
        "colab": {}
      },
      "source": [
        "dist_list = get_distance_li(Retailer)"
      ],
      "execution_count": 0,
      "outputs": []
    },
    {
      "cell_type": "markdown",
      "metadata": {
        "id": "lPmyYC08WSUK",
        "colab_type": "text"
      },
      "source": [
        "dist_list shows the distance between different retailers as shown below"
      ]
    },
    {
      "cell_type": "code",
      "metadata": {
        "id": "D3dNx7bM9aq7",
        "colab_type": "code",
        "outputId": "0c50df60-955d-442d-d913-f2cdeb6e659c",
        "colab": {
          "base_uri": "https://localhost:8080/",
          "height": 126
        }
      },
      "source": [
        "dist_list"
      ],
      "execution_count": 87,
      "outputs": [
        {
          "output_type": "execute_result",
          "data": {
            "text/plain": [
              "[(0, 1, 0.07296678382148779),\n",
              " (0, 2, 0.6196017783620665),\n",
              " (0, 3, 2.9118768304466047),\n",
              " (1, 2, 0.5466437947886615),\n",
              " (1, 3, 2.8393605265049717),\n",
              " (2, 3, 2.2958354988388816)]"
            ]
          },
          "metadata": {
            "tags": []
          },
          "execution_count": 87
        }
      ]
    },
    {
      "cell_type": "code",
      "metadata": {
        "id": "gDHFKR2Q9d1r",
        "colab_type": "code",
        "outputId": "43508414-0611-4311-f9f8-047f2a10ffc6",
        "colab": {
          "base_uri": "https://localhost:8080/",
          "height": 146
        }
      },
      "source": [
        "!pip install mlrose"
      ],
      "execution_count": 88,
      "outputs": [
        {
          "output_type": "stream",
          "text": [
            "Requirement already satisfied: mlrose in /usr/local/lib/python3.6/dist-packages (1.2.0)\n",
            "Requirement already satisfied: scipy in /usr/local/lib/python3.6/dist-packages (from mlrose) (1.3.1)\n",
            "Requirement already satisfied: sklearn in /usr/local/lib/python3.6/dist-packages (from mlrose) (0.0)\n",
            "Requirement already satisfied: numpy in /usr/local/lib/python3.6/dist-packages (from mlrose) (1.16.5)\n",
            "Requirement already satisfied: scikit-learn in /usr/local/lib/python3.6/dist-packages (from sklearn->mlrose) (0.21.3)\n",
            "Requirement already satisfied: joblib>=0.11 in /usr/local/lib/python3.6/dist-packages (from scikit-learn->sklearn->mlrose) (0.13.2)\n"
          ],
          "name": "stdout"
        }
      ]
    },
    {
      "cell_type": "markdown",
      "metadata": {
        "id": "zrq2dxa0Whx-",
        "colab_type": "text"
      },
      "source": [
        "Below Code gives the best routing \n",
        "\n",
        "Best route calculated:\n",
        "\n",
        "**1---->0---->3---->2**"
      ]
    },
    {
      "cell_type": "code",
      "metadata": {
        "id": "C7lIcfnO9ijL",
        "colab_type": "code",
        "outputId": "1f73ac53-0c32-4b12-f0b2-d741fd99442f",
        "colab": {
          "base_uri": "https://localhost:8080/",
          "height": 54
        }
      },
      "source": [
        "import mlrose\n",
        "\n",
        "# Initialize fitness function object using dist_list\n",
        "fitness_dists = mlrose.TravellingSales(distances = dist_list)\n",
        "\n",
        "# define problem\n",
        "problem_fit = mlrose.TSPOpt(length = 4, fitness_fn = fitness_dists,\n",
        "                            maximize=False)\n",
        "\n",
        "# Solve problem using the genetic algorithm\n",
        "best_state, best_fitness = mlrose.genetic_alg(problem_fit,mutation_prob = 0.6, \n",
        "\t\t\t\t\t      max_attempts = 100, random_state = 2)\n",
        "\n",
        "print('The best state found is: ', best_state)\n",
        "\n",
        "print('The fitness at the best state is: ', best_fitness)\n"
      ],
      "execution_count": 90,
      "outputs": [
        {
          "output_type": "stream",
          "text": [
            "The best state found is:  [1 0 3 2]\n",
            "The fitness at the best state is:  5.827322907895635\n"
          ],
          "name": "stdout"
        }
      ]
    },
    {
      "cell_type": "markdown",
      "metadata": {
        "id": "Z5_bWwTpZrq5",
        "colab_type": "text"
      },
      "source": [
        "**Problem 2**\n",
        "\n",
        "Which Shakti to delivered goods from which distributor.\n",
        "\n",
        "I have solved this problem by using logic:\n",
        "\n",
        "when a particular truck/vehicle move from a distributor to retailer then based on the retailer location, list of nearby shaktis will be given so that depending on distance same truck will give material to the shakti\n"
      ]
    },
    {
      "cell_type": "code",
      "metadata": {
        "id": "eDxZTff3_D7W",
        "colab_type": "code",
        "outputId": "42672a45-b6ca-4c8a-abe5-8af8c42979ae",
        "colab": {
          "base_uri": "https://localhost:8080/",
          "height": 198
        }
      },
      "source": [
        "shakti_data.head()\n"
      ],
      "execution_count": 91,
      "outputs": [
        {
          "output_type": "execute_result",
          "data": {
            "text/html": [
              "<div>\n",
              "<style scoped>\n",
              "    .dataframe tbody tr th:only-of-type {\n",
              "        vertical-align: middle;\n",
              "    }\n",
              "\n",
              "    .dataframe tbody tr th {\n",
              "        vertical-align: top;\n",
              "    }\n",
              "\n",
              "    .dataframe thead th {\n",
              "        text-align: right;\n",
              "    }\n",
              "</style>\n",
              "<table border=\"1\" class=\"dataframe\">\n",
              "  <thead>\n",
              "    <tr style=\"text-align: right;\">\n",
              "      <th></th>\n",
              "      <th>RS Code</th>\n",
              "      <th>GPS_LAT</th>\n",
              "      <th>GPS_LONG</th>\n",
              "    </tr>\n",
              "  </thead>\n",
              "  <tbody>\n",
              "    <tr>\n",
              "      <th>0</th>\n",
              "      <td>410640</td>\n",
              "      <td>11.268828</td>\n",
              "      <td>77.650470</td>\n",
              "    </tr>\n",
              "    <tr>\n",
              "      <th>1</th>\n",
              "      <td>410640</td>\n",
              "      <td>11.269172</td>\n",
              "      <td>77.650173</td>\n",
              "    </tr>\n",
              "    <tr>\n",
              "      <th>2</th>\n",
              "      <td>411304</td>\n",
              "      <td>10.505967</td>\n",
              "      <td>79.705148</td>\n",
              "    </tr>\n",
              "    <tr>\n",
              "      <th>3</th>\n",
              "      <td>411304</td>\n",
              "      <td>10.507117</td>\n",
              "      <td>79.690247</td>\n",
              "    </tr>\n",
              "    <tr>\n",
              "      <th>4</th>\n",
              "      <td>411304</td>\n",
              "      <td>10.500000</td>\n",
              "      <td>79.663765</td>\n",
              "    </tr>\n",
              "  </tbody>\n",
              "</table>\n",
              "</div>"
            ],
            "text/plain": [
              "  RS Code    GPS_LAT   GPS_LONG\n",
              "0  410640  11.268828  77.650470\n",
              "1  410640  11.269172  77.650173\n",
              "2  411304  10.505967  79.705148\n",
              "3  411304  10.507117  79.690247\n",
              "4  411304  10.500000  79.663765"
            ]
          },
          "metadata": {
            "tags": []
          },
          "execution_count": 91
        }
      ]
    },
    {
      "cell_type": "code",
      "metadata": {
        "id": "7fWyOzzFIQoD",
        "colab_type": "code",
        "outputId": "4f78f6f0-92c9-4f75-c2ab-51cf7f42841b",
        "colab": {
          "base_uri": "https://localhost:8080/",
          "height": 35
        }
      },
      "source": [
        "#Which shakti is nearer to which retailer so that while moving material from distributor to retailer, same vehicle moves material to Shakti\n",
        "retailer_data = input(\"Enter Party Hll Code\")\n",
        "lt1 = chennai_data[chennai_data[\"PartyHLLCode\"] == code][\"Outlet Lat\"].to_list()[0]\n",
        "ln1 = chennai_data[chennai_data[\"PartyHLLCode\"] == code][\"Outlet Long\"].to_list()[0]"
      ],
      "execution_count": 93,
      "outputs": [
        {
          "output_type": "stream",
          "text": [
            "Enter Party Hll CodeHUL-411642P563\n"
          ],
          "name": "stdout"
        }
      ]
    },
    {
      "cell_type": "code",
      "metadata": {
        "id": "gaZ2sfUuKDX4",
        "colab_type": "code",
        "outputId": "45fea331-385c-4f8e-e225-2d40943253bd",
        "colab": {
          "base_uri": "https://localhost:8080/",
          "height": 35
        }
      },
      "source": [
        "lt1"
      ],
      "execution_count": 94,
      "outputs": [
        {
          "output_type": "execute_result",
          "data": {
            "text/plain": [
              "8.08321373"
            ]
          },
          "metadata": {
            "tags": []
          },
          "execution_count": 94
        }
      ]
    },
    {
      "cell_type": "code",
      "metadata": {
        "id": "UxV1Nw1WKNha",
        "colab_type": "code",
        "outputId": "5d842607-7aad-4070-9a4e-29d8ae9a5412",
        "colab": {
          "base_uri": "https://localhost:8080/",
          "height": 35
        }
      },
      "source": [
        "ln1"
      ],
      "execution_count": 95,
      "outputs": [
        {
          "output_type": "execute_result",
          "data": {
            "text/plain": [
              "77.52392039"
            ]
          },
          "metadata": {
            "tags": []
          },
          "execution_count": 95
        }
      ]
    },
    {
      "cell_type": "code",
      "metadata": {
        "id": "GeBzMmlIK_EO",
        "colab_type": "code",
        "colab": {}
      },
      "source": [
        "dist_shakti_list = []\n",
        "for i in range(0, len(shakti_data)):\n",
        "  lt2 = shakti_data.iloc[i, 1]\n",
        "  ln2 = shakti_data.iloc[i, 2]\n",
        "  lat1 = radians(lt1)\n",
        "  lon1 = radians(ln1)\n",
        "  lat2 = radians(lt2)\n",
        "  lon2 = radians(ln2)\n",
        "\n",
        "  dlon = lon2 - lon1\n",
        "  dlat = lat2 - lat1\n",
        "\n",
        "  a = sin(dlat / 2)**2 + cos(lat1) * cos(lat2) * sin(dlon / 2)**2\n",
        "  c = 2 * atan2(sqrt(a), sqrt(1 - a))\n",
        "\n",
        "  distance = R * c\n",
        "\n",
        "  dist_shakti_list.append(distance)"
      ],
      "execution_count": 0,
      "outputs": []
    },
    {
      "cell_type": "code",
      "metadata": {
        "id": "NLGp-PlyMvvf",
        "colab_type": "code",
        "colab": {}
      },
      "source": [
        "df = pd.DataFrame(dist_shakti_list, columns = [\"KMS\"])"
      ],
      "execution_count": 0,
      "outputs": []
    },
    {
      "cell_type": "code",
      "metadata": {
        "id": "xTiYlQhRNzgT",
        "colab_type": "code",
        "outputId": "77792a95-a85e-480a-abcc-585af740be6a",
        "colab": {
          "base_uri": "https://localhost:8080/",
          "height": 198
        }
      },
      "source": [
        "df[\"RS CODE\"] = shakti_data[\"RS Code\"]\n",
        "df.sort_values(by = \"KMS\").head()"
      ],
      "execution_count": 98,
      "outputs": [
        {
          "output_type": "execute_result",
          "data": {
            "text/html": [
              "<div>\n",
              "<style scoped>\n",
              "    .dataframe tbody tr th:only-of-type {\n",
              "        vertical-align: middle;\n",
              "    }\n",
              "\n",
              "    .dataframe tbody tr th {\n",
              "        vertical-align: top;\n",
              "    }\n",
              "\n",
              "    .dataframe thead th {\n",
              "        text-align: right;\n",
              "    }\n",
              "</style>\n",
              "<table border=\"1\" class=\"dataframe\">\n",
              "  <thead>\n",
              "    <tr style=\"text-align: right;\">\n",
              "      <th></th>\n",
              "      <th>KMS</th>\n",
              "      <th>RS CODE</th>\n",
              "    </tr>\n",
              "  </thead>\n",
              "  <tbody>\n",
              "    <tr>\n",
              "      <th>84</th>\n",
              "      <td>8.036565</td>\n",
              "      <td>411642</td>\n",
              "    </tr>\n",
              "    <tr>\n",
              "      <th>82</th>\n",
              "      <td>8.744015</td>\n",
              "      <td>411642</td>\n",
              "    </tr>\n",
              "    <tr>\n",
              "      <th>30</th>\n",
              "      <td>10.934624</td>\n",
              "      <td>411381</td>\n",
              "    </tr>\n",
              "    <tr>\n",
              "      <th>86</th>\n",
              "      <td>11.456370</td>\n",
              "      <td>411642</td>\n",
              "    </tr>\n",
              "    <tr>\n",
              "      <th>779</th>\n",
              "      <td>14.498199</td>\n",
              "      <td>414293</td>\n",
              "    </tr>\n",
              "  </tbody>\n",
              "</table>\n",
              "</div>"
            ],
            "text/plain": [
              "           KMS RS CODE\n",
              "84    8.036565  411642\n",
              "82    8.744015  411642\n",
              "30   10.934624  411381\n",
              "86   11.456370  411642\n",
              "779  14.498199  414293"
            ]
          },
          "metadata": {
            "tags": []
          },
          "execution_count": 98
        }
      ]
    },
    {
      "cell_type": "code",
      "metadata": {
        "id": "_EnxxVlgOCZK",
        "colab_type": "code",
        "colab": {}
      },
      "source": [
        ""
      ],
      "execution_count": 0,
      "outputs": []
    }
  ]
}